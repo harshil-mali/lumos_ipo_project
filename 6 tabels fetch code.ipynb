{
 "cells": [
  {
   "cell_type": "code",
   "execution_count": 1,
   "id": "3e48523c",
   "metadata": {},
   "outputs": [],
   "source": [
    "# import pandas as pd\n",
    "# import requests\n",
    "\n",
    "# url = \"https://www.chittorgarh.com/ipo/vikram-solar-ipo/2230/\"\n",
    "# response = requests.get(url, headers={\"User-Agent\": \"Mozilla/5.0\"})\n",
    "# html = response.text\n",
    "\n",
    "# dfs = pd.read_html(html)\n",
    "\n"
   ]
  },
  {
   "cell_type": "code",
   "execution_count": 2,
   "id": "423fd88d",
   "metadata": {},
   "outputs": [],
   "source": [
    "import requests\n",
    "import re\n",
    "import json \n",
    "import requests\n",
    "from bs4 import BeautifulSoup\n",
    "import pandas as pd\n",
    "from io import StringIO\n",
    "import os\n",
    "from urllib.parse import urljoin, urlparse\n",
    "\n"
   ]
  },
  {
   "cell_type": "code",
   "execution_count": 4,
   "id": "0f79f7b4",
   "metadata": {},
   "outputs": [],
   "source": [
    "url = \"https://webnodejs.chittorgarh.com/cloud/report/data-read/82/1/8/2025/2025-26/0/mainboard/0?search=&v=14-28\"\n",
    "headers = {\"User-Agent\": \"Mozilla/5.0\"}\n",
    "response = requests.get(url, headers=headers)\n",
    "data = response.json()"
   ]
  },
  {
   "cell_type": "code",
   "execution_count": 5,
   "id": "fe05336f",
   "metadata": {},
   "outputs": [],
   "source": [
    "# chitorghar na mainboard ma jase and  anchore tage mathi badhi ipo ni hyoerlinks ne fetch karse detail page na ipo ni \n",
    "\n",
    "company_links = []\n",
    "for item in data['reportTableData']:\n",
    "    company_html = item['Company']\n",
    "    soup = BeautifulSoup(company_html, \"html.parser\")\n",
    "    a_tag = soup.find(\"a\")\n",
    "    if a_tag:\n",
    "        company_links.append({\n",
    "            \"Company Name\": a_tag.text.strip(),\n",
    "            \"URL\": a_tag[\"href\"]\n",
    "        })\n"
   ]
  },
  {
   "cell_type": "code",
   "execution_count": 10,
   "id": "92d7a26c",
   "metadata": {},
   "outputs": [],
   "source": [
    "# usefull nathi but kamni ce koi pan linka na andar jetla tabels hoy badha fetch kare ce\n",
    "\n",
    "\n",
    "# url = \"https://www.chittorgarh.com/ipo/vikram-solar-ipo/2230/\"\n",
    "# response = requests.get(url, headers={\"User-Agent\": \"Mozilla/5.0\"})\n",
    "# html = response.text\n",
    "\n",
    "# dfs = pd.read_html(html)\n",
    "\n"
   ]
  },
  {
   "cell_type": "markdown",
   "id": "fa50f758",
   "metadata": {},
   "source": [
    "# ipo details tabel data"
   ]
  },
  {
   "cell_type": "code",
   "execution_count": 11,
   "id": "dccb51f5",
   "metadata": {},
   "outputs": [],
   "source": [
    "# #fetch ipo details tabel\n",
    "\n",
    "# all_ipo_data = []\n",
    "\n",
    "# for comp in company_links:\n",
    "#         df = pd.read_html(requests.get(comp[\"URL\"], headers=headers).text)[0]\n",
    "#         df.columns = [\"Field\", \"Value\"]\n",
    "#         record = {\"Company Name\": comp[\"Company Name\"], **dict(zip(df[\"Field\"], df[\"Value\"]))}\n",
    "#         all_ipo_data.append(record)\n",
    "\n",
    "\n",
    "# ipo_master_df = pd.DataFrame(all_ipo_data)\n",
    "# ipo_master_df[\"issue_price\"] = ipo_master_df[\"Issue Price\"].fillna(ipo_master_df[\"Issue Price Band\"])\n",
    "# ipo_details_df = ipo_master_df.drop(columns=['Issue Price','Issue Price Band','Reserved for Employees','Net Offered to Public'])\n",
    "# ipo_details_df\n",
    "# ipo_details_df.to_csv('ipo_details.csv')"
   ]
  },
  {
   "cell_type": "markdown",
   "id": "c96c4364",
   "metadata": {},
   "source": [
    "# ipo reservation tabel data "
   ]
  },
  {
   "cell_type": "code",
   "execution_count": 14,
   "id": "4904f529",
   "metadata": {},
   "outputs": [],
   "source": [
    "# #fetch ipo reservation tabel \n",
    "# ipo_reservation = []\n",
    "# for comp in company_links:\n",
    "#         tables = pd.read_html(requests.get(comp[\"URL\"], headers=headers).text)\n",
    "        \n",
    "#         if len(tables) > 1:\n",
    "#             df = tables[1]  \n",
    "\n",
    "#             if df.shape[1] >= 2:\n",
    "#                 df = df.iloc[:, :2]  \n",
    "#                 df.columns = [\"Field\", \"Value\"]\n",
    "#                 record = {\"Company Name\": comp[\"Company Name\"], **dict(zip(df[\"Field\"], df[\"Value\"]))}\n",
    "#                 ipo_reservation.append(record)\n",
    "# ipo_reservation_df = pd.DataFrame(ipo_reservation)\n",
    "# ipo_reservation_df\n",
    "# ipo_reservation_df.to_csv('ipo_reservation_df.csv')"
   ]
  },
  {
   "cell_type": "markdown",
   "id": "5d33ea1e",
   "metadata": {},
   "source": [
    "# ipo reseravtion data"
   ]
  },
  {
   "cell_type": "code",
   "execution_count": 4,
   "id": "4d9b7de4",
   "metadata": {},
   "outputs": [],
   "source": [
    "# ipo_reservation = []\n",
    "# for comp in company_links:\n",
    "#     try:\n",
    "#         page = requests.get(comp[\"URL\"], headers=headers)\n",
    "#         tables = pd.read_html(page.text)\n",
    "        \n",
    "#         if len(tables) > 1:\n",
    "#             df = tables[1]\n",
    "\n",
    "#             # Check if at least 3 columns exist\n",
    "#             if df.shape[1] >= 3:\n",
    "#                 df = df.iloc[:, :3]  # Get the first 3 columns\n",
    "#                 df.columns = [\"Investor Category\", \"Shares Offered\", \"Maximum Allottees\"]\n",
    "\n",
    "#                 record = {\"Company Name\": comp[\"Company Name\"]}\n",
    "#                 for _, row in df.iterrows():\n",
    "#                     record[f\"{row['Investor Category']} - Shares Offered\"] = row[\"Shares Offered\"]\n",
    "#                     record[f\"{row['Investor Category']} - Maximum Allottees\"] = row[\"Maximum Allottees\"]\n",
    "\n",
    "#                 ipo_reservation.append(record)\n",
    "#     except Exception as e:\n",
    "#         print(f\"Error processing {comp['Company Name']}: {e}\")\n",
    "\n",
    "# # Step 4: Create final DataFrame\n",
    "# ipo_reservation_df = pd.DataFrame(ipo_reservation)\n",
    "# ipo_reservation_df = ipo_reservation_df.drop(columns=['Shareholders Shares Offered - Maximum Allottees','Employee Shares Offered - Maximum Allottees','Total Shares Offered - Maximum Allottees','− Anchor Investor Shares Offered - Maximum Allottees','QIB Shares Offered - Maximum Allottees','NII (HNI) Shares Offered - Maximum Allottees','− QIB (Ex. Anchor) Shares Offered - Maximum Allottees'])\n",
    "# ipo_reservation_df.shape\n",
    "# ipo_reservation_df.to_csv('ipo_reservation_df.csv')"
   ]
  },
  {
   "cell_type": "code",
   "execution_count": 5,
   "id": "7bdeb0e8",
   "metadata": {},
   "outputs": [],
   "source": [
    "# ipo_reservation_df = ipo_reservation_df.drop(columns=['Shareholders Shares Offered - Maximum Allottees','Employee Shares Offered - Maximum Allottees','Total Shares Offered - Maximum Allottees','− Anchor Investor Shares Offered - Maximum Allottees','QIB Shares Offered - Maximum Allottees','NII (HNI) Shares Offered - Maximum Allottees','− QIB (Ex. Anchor) Shares Offered - Maximum Allottees'])"
   ]
  },
  {
   "cell_type": "markdown",
   "id": "c0fba14d",
   "metadata": {},
   "source": [
    "# ipo timeline data "
   ]
  },
  {
   "cell_type": "code",
   "execution_count": 8,
   "id": "082b691d",
   "metadata": {},
   "outputs": [],
   "source": [
    "# # fetch IPO Timeline (Tentative Schedule)\n",
    "\n",
    "\n",
    "\n",
    "# structured_data = []\n",
    "\n",
    "# for company in company_links:\n",
    "#         company_name = company[\"Company Name\"]\n",
    "#         company_url = company[\"URL\"]\n",
    "#         response = requests.get(company_url, headers=headers)\n",
    "#         soup = BeautifulSoup(response.content, \"html.parser\")\n",
    "\n",
    "#         tables = soup.find_all(\"table\")\n",
    "\n",
    "#         for table in tables:\n",
    "#             if \"Initiation of Refunds\" in table.get_text():\n",
    "#                 df = pd.read_html(str(table))[0]\n",
    "\n",
    "#                 if df.shape[1] == 2:\n",
    "#                     row_data = {\"Company Name\": company_name}\n",
    "#                     for i in range(len(df)):\n",
    "#                         key = df.iloc[i, 0].strip()\n",
    "#                         value = df.iloc[i, 1]\n",
    "#                         row_data[key] = value\n",
    "#                     structured_data.append(row_data)\n",
    "\n",
    "# final_df = pd.DataFrame(structured_data)\n",
    "# final_df.to_csv('ipo_timeline.csv')"
   ]
  },
  {
   "cell_type": "markdown",
   "id": "5b294aa8",
   "metadata": {},
   "source": [
    "# IPO LOT SIZE CODE\n"
   ]
  },
  {
   "cell_type": "code",
   "execution_count": 10,
   "id": "c5aea484",
   "metadata": {},
   "outputs": [],
   "source": [
    "# # fetch IPO Lot Size tabel  \n",
    "\n",
    "# structured_data = []\n",
    "\n",
    "# for company in company_links:\n",
    "#         company_name = company[\"Company Name\"]\n",
    "#         company_url = company[\"URL\"]\n",
    "#         response = requests.get(company_url, headers=headers)\n",
    "#         soup = BeautifulSoup(response.content, \"html.parser\")\n",
    "\n",
    "#         tables = soup.find_all(\"table\")\n",
    "\n",
    "#         for table in tables:\n",
    "#             if \"S-HNI (Min)\" in table.get_text():\n",
    "#                 df = pd.read_html(str(table))[0]\n",
    "\n",
    "#                 df[\"Company Name\"] = company_name\n",
    "\n",
    "#                 df_pivot = df.pivot_table(\n",
    "#                     index=\"Company Name\",\n",
    "#                     columns=\"Application\",\n",
    "#                     values=[\"Lots\", \"Shares\", \"Amount\"],\n",
    "#                     aggfunc=\"first\"\n",
    "#                 )\n",
    "\n",
    "#                 df_pivot.columns = [f\"{col2}_{col1}\" for col1, col2 in df_pivot.columns]\n",
    "#                 df_pivot = df_pivot.reset_index()\n",
    "\n",
    "#                 structured_data.append(df_pivot)\n",
    "\n",
    "# final_df = pd.concat(structured_data, ignore_index=True)\n"
   ]
  },
  {
   "cell_type": "markdown",
   "id": "7aa68943",
   "metadata": {},
   "source": [
    "# FINANCIAL DATA FETCH "
   ]
  },
  {
   "cell_type": "code",
   "execution_count": 133,
   "id": "e051f3ec",
   "metadata": {},
   "outputs": [],
   "source": [
    "# # Financial Information (Restated Standalone) tabel \n",
    "\n",
    "# structured_tables = []\n",
    "\n",
    "# for company in company_links:\n",
    "#         company_name = company[\"Company Name\"]\n",
    "#         company_url = company[\"URL\"]\n",
    "#         response = requests.get(company_url, headers=headers)\n",
    "#         soup = BeautifulSoup(response.content, \"html.parser\")\n",
    "\n",
    "#         tables = soup.find_all(\"table\")\n",
    "\n",
    "#         for table in tables:\n",
    "#             if \"Period Ended\" in table.get_text():\n",
    "#                 df = pd.read_html(str(table))[0]\n",
    "#                 df[\"Company Name\"] = company_name\n",
    "#                 structured_tables.append(df)\n",
    "# final_df = pd.concat(structured_tables, ignore_index=True)\n",
    "\n",
    "# final_df\n",
    "# final_df[0].unique()"
   ]
  },
  {
   "cell_type": "code",
   "execution_count": 113,
   "id": "8399aed4",
   "metadata": {},
   "outputs": [],
   "source": [
    "# pd.set_option('display.max_rows', None)\n",
    "# pd.set_option('display.max_columns', None)"
   ]
  },
  {
   "cell_type": "code",
   "execution_count": 134,
   "id": "0fbdf971",
   "metadata": {},
   "outputs": [],
   "source": [
    "# final_df = final_df[~final_df[0].isin([\"Amount in ₹ Crore\", \"Revenue\"])].reset_index()\n"
   ]
  },
  {
   "cell_type": "code",
   "execution_count": 135,
   "id": "9296bd90",
   "metadata": {},
   "outputs": [],
   "source": [
    "# final_df.shape"
   ]
  },
  {
   "cell_type": "code",
   "execution_count": 136,
   "id": "67ecf1cc",
   "metadata": {},
   "outputs": [],
   "source": [
    "# final_df=final_df[final_df[0].notna()].drop(columns='index')"
   ]
  },
  {
   "cell_type": "code",
   "execution_count": 137,
   "id": "f2bd6112",
   "metadata": {},
   "outputs": [],
   "source": [
    "# final_df=final_df.drop(columns=[4,5])"
   ]
  },
  {
   "cell_type": "code",
   "execution_count": 138,
   "id": "2728e089",
   "metadata": {},
   "outputs": [],
   "source": [
    "# final_df"
   ]
  },
  {
   "cell_type": "markdown",
   "id": "e3bc8b84",
   "metadata": {},
   "source": [
    "# Convert data in structured form "
   ]
  },
  {
   "cell_type": "code",
   "execution_count": 139,
   "id": "5476efe0",
   "metadata": {},
   "outputs": [],
   "source": [
    "# df = final_df.copy()\n",
    "# df.columns = [\"metric\", \"2025\", \"2024\", \"2023\", \"company_name\"]\n",
    "# df_long = df.melt(\n",
    "#     id_vars=[\"metric\", \"company_name\"],\n",
    "#     value_vars=[\"2025\", \"2024\", \"2023\"],\n",
    "#     var_name=\"period_end\",\n",
    "#     value_name=\"value\"\n",
    "# )\n",
    "# df_wide = df_long.pivot_table(\n",
    "#     index=[\"company_name\", \"period_end\"],\n",
    "#     columns=\"metric\",\n",
    "#     values=\"value\",\n",
    "#     aggfunc=\"first\"\n",
    "# ).reset_index()\n",
    "# df_wide.drop(columns='period_end')\n",
    "\n",
    "\n",
    "\n"
   ]
  },
  {
   "cell_type": "code",
   "execution_count": 130,
   "id": "04f22500",
   "metadata": {},
   "outputs": [],
   "source": [
    "# df_wide.to_csv('ipo_financial.csv')"
   ]
  },
  {
   "cell_type": "code",
   "execution_count": null,
   "id": "cd4deaec",
   "metadata": {},
   "outputs": [],
   "source": []
  },
  {
   "cell_type": "code",
   "execution_count": null,
   "id": "5a2542fe",
   "metadata": {},
   "outputs": [],
   "source": []
  },
  {
   "cell_type": "code",
   "execution_count": null,
   "id": "625817c4",
   "metadata": {},
   "outputs": [],
   "source": []
  },
  {
   "cell_type": "code",
   "execution_count": null,
   "id": "f25870a8",
   "metadata": {},
   "outputs": [],
   "source": []
  },
  {
   "cell_type": "code",
   "execution_count": null,
   "id": "be83d946",
   "metadata": {},
   "outputs": [],
   "source": []
  },
  {
   "cell_type": "code",
   "execution_count": null,
   "id": "846b5d22",
   "metadata": {},
   "outputs": [],
   "source": []
  },
  {
   "cell_type": "code",
   "execution_count": null,
   "id": "2232f752",
   "metadata": {},
   "outputs": [],
   "source": []
  },
  {
   "cell_type": "code",
   "execution_count": null,
   "id": "5ce2cb75",
   "metadata": {},
   "outputs": [],
   "source": []
  },
  {
   "cell_type": "code",
   "execution_count": null,
   "id": "816ff743",
   "metadata": {},
   "outputs": [],
   "source": []
  },
  {
   "cell_type": "code",
   "execution_count": null,
   "id": "aa52ee70",
   "metadata": {},
   "outputs": [],
   "source": []
  },
  {
   "cell_type": "code",
   "execution_count": null,
   "id": "b3219557",
   "metadata": {},
   "outputs": [],
   "source": []
  },
  {
   "cell_type": "code",
   "execution_count": 21,
   "id": "e2d2877d",
   "metadata": {},
   "outputs": [],
   "source": [
    "# # FETCH KPI TABLE FROM LINKS\n",
    "# roce_tables = []\n",
    "\n",
    "# for company in company_links:\n",
    "#         company_name = company[\"Company Name\"]\n",
    "#         company_url = company[\"URL\"]\n",
    "#         response = requests.get(company_url, headers=headers)\n",
    "#         soup = BeautifulSoup(response.content, \"html.parser\")\n",
    "\n",
    "#         tables = soup.find_all(\"table\")\n",
    "\n",
    "#         for table in tables:\n",
    "#             if \"ROCE\" in table.get_text():\n",
    "#                 df = pd.read_html(str(table))[0]\n",
    "#                 df[\"Company Name\"] = company_name\n",
    "#                 roce_tables.append(df)\n",
    "# final_df = pd.concat(roce_tables, ignore_index=True)"
   ]
  },
  {
   "cell_type": "code",
   "execution_count": 16,
   "id": "2bf5565f",
   "metadata": {},
   "outputs": [],
   "source": [
    "import os\n",
    "from urllib.parse import urljoin, urlparse"
   ]
  },
  {
   "cell_type": "code",
   "execution_count": 19,
   "id": "95de132f",
   "metadata": {},
   "outputs": [],
   "source": [
    "## fetch logos of company and store in logos directory \n",
    "\n",
    "# output_dir = \"logos\"\n",
    "# os.makedirs(\"logos\", exist_ok=True)\n",
    "\n",
    "# for company in company_links:\n",
    "#     name = company[\"Company Name\"]\n",
    "#     link = company[\"URL\"]\n",
    "\n",
    "#     soup = BeautifulSoup(requests.get(link, headers=headers).text, 'html.parser')\n",
    "#     logo_src = soup.select_one(\".div-logo img\").get(\"src\")\n",
    "#     logo_url = urljoin(link, logo_src)\n",
    "\n",
    "#     img_data = requests.get(logo_url, headers=headers).content\n",
    "#     ext = os.path.splitext(urlparse(logo_url).path)[1]\n",
    "#     filename = f\"{name.replace(' ', '_').replace('/', '-')}{ext}\"\n",
    "#     with open(os.path.join(\"logos\", filename), 'wb') as f:\n",
    "#         f.write(img_data)\n",
    "\n"
   ]
  },
  {
   "cell_type": "code",
   "execution_count": null,
   "id": "15ef3c52",
   "metadata": {},
   "outputs": [],
   "source": []
  },
  {
   "cell_type": "code",
   "execution_count": null,
   "id": "92af5e4c",
   "metadata": {},
   "outputs": [],
   "source": []
  },
  {
   "cell_type": "code",
   "execution_count": null,
   "id": "de5a7c44",
   "metadata": {},
   "outputs": [],
   "source": []
  },
  {
   "cell_type": "code",
   "execution_count": null,
   "id": "288452ec",
   "metadata": {},
   "outputs": [],
   "source": []
  },
  {
   "cell_type": "code",
   "execution_count": null,
   "id": "8787d231",
   "metadata": {},
   "outputs": [],
   "source": []
  },
  {
   "cell_type": "code",
   "execution_count": null,
   "id": "71a4d363",
   "metadata": {},
   "outputs": [],
   "source": []
  },
  {
   "cell_type": "code",
   "execution_count": null,
   "id": "4a0bf5e6",
   "metadata": {},
   "outputs": [],
   "source": []
  },
  {
   "cell_type": "code",
   "execution_count": null,
   "id": "d232a642",
   "metadata": {},
   "outputs": [],
   "source": []
  },
  {
   "cell_type": "code",
   "execution_count": null,
   "id": "bf43216c",
   "metadata": {},
   "outputs": [],
   "source": []
  },
  {
   "cell_type": "code",
   "execution_count": null,
   "id": "160246d7",
   "metadata": {},
   "outputs": [],
   "source": []
  },
  {
   "cell_type": "code",
   "execution_count": null,
   "id": "c6a84ed1",
   "metadata": {},
   "outputs": [],
   "source": []
  },
  {
   "cell_type": "code",
   "execution_count": null,
   "id": "fbda3f84",
   "metadata": {},
   "outputs": [],
   "source": []
  },
  {
   "cell_type": "code",
   "execution_count": null,
   "id": "baf5e7b0",
   "metadata": {},
   "outputs": [],
   "source": []
  },
  {
   "cell_type": "code",
   "execution_count": null,
   "id": "c2fb05ad",
   "metadata": {},
   "outputs": [],
   "source": []
  },
  {
   "cell_type": "code",
   "execution_count": null,
   "id": "eb6cab24",
   "metadata": {},
   "outputs": [],
   "source": []
  },
  {
   "cell_type": "code",
   "execution_count": null,
   "id": "a8cba5d8",
   "metadata": {},
   "outputs": [],
   "source": []
  },
  {
   "cell_type": "code",
   "execution_count": null,
   "id": "e255f400",
   "metadata": {},
   "outputs": [],
   "source": []
  },
  {
   "cell_type": "code",
   "execution_count": null,
   "id": "f2d9b5ce",
   "metadata": {},
   "outputs": [],
   "source": []
  },
  {
   "cell_type": "code",
   "execution_count": null,
   "id": "0dff8b89",
   "metadata": {},
   "outputs": [],
   "source": []
  },
  {
   "cell_type": "code",
   "execution_count": null,
   "id": "df3bb938",
   "metadata": {},
   "outputs": [],
   "source": []
  },
  {
   "cell_type": "code",
   "execution_count": null,
   "id": "6a97cc59",
   "metadata": {},
   "outputs": [],
   "source": []
  },
  {
   "cell_type": "code",
   "execution_count": 10,
   "id": "0ceb4e8b",
   "metadata": {},
   "outputs": [],
   "source": [
    "# ipo_date_table = None\n",
    "# for df in dfs:\n",
    "#     if df.astype(str).apply(lambda x: x.str.contains('IPO Date', case=False)).any().any():\n",
    "#         ipo_date_table = df\n",
    "#         break\n"
   ]
  },
  {
   "cell_type": "code",
   "execution_count": 11,
   "id": "84822178",
   "metadata": {},
   "outputs": [],
   "source": [
    "# dfs = pd.read_html(html)\n",
    "\n",
    "# # Filter table that contains 'IPO Date' in any cell\n",
    "# ipo_date_table = None\n",
    "# for df in dfs:\n",
    "#     if df.astype(str).apply(lambda x: x.str.contains('IPO Date', case=False)).any().any():\n",
    "#         ipo_date_table = df\n",
    "#         break\n",
    "\n",
    "# # Display the found table\n",
    "# if ipo_date_table is not None:\n",
    "#     print(ipo_date_table)\n",
    "# else:\n",
    "#     print(\"No table containing 'IPO Date' found.\")\n"
   ]
  },
  {
   "cell_type": "code",
   "execution_count": 12,
   "id": "328b30da",
   "metadata": {},
   "outputs": [],
   "source": [
    "# structured_data = []\n",
    "\n",
    "# for company in company_links:\n",
    "#     try:\n",
    "#         company_name = company[\"Company Name\"]\n",
    "#         company_url = company[\"URL\"]\n",
    "#         response = requests.get(company_url, headers=headers)\n",
    "#         soup = BeautifulSoup(response.content, \"html.parser\")\n",
    "\n",
    "#         tables = soup.find_all(\"table\")\n",
    "\n",
    "#         for table in tables:\n",
    "#             if \"S-HNI (Min)\" in table.get_text():\n",
    "#                 df = pd.read_html(str(table))[0]\n",
    "\n",
    "#                 # Add company name column\n",
    "#                 df[\"Company Name\"] = company_name\n",
    "#                 structured_data.append(df)\n",
    "#                 break  # Process only the first matching table\n",
    "#     except Exception as e:\n",
    "#         print(f\"Error processing {company_name}: {e}\")\n",
    "\n",
    "# # Step 3: Combine all matching tables\n",
    "# if structured_data:\n",
    "#     final_df = pd.concat(structured_data, ignore_index=True)\n",
    "#     print(final_df.head())\n",
    "# else:\n",
    "#     print(\"No matching tables with 'S-HNI (MIN)' found.\")\n",
    "\n",
    "# # Optional: Save to CSV\n",
    "# # final_df.to_csv(\"shni_min_tables.csv\", index=False)\n"
   ]
  }
 ],
 "metadata": {
  "kernelspec": {
   "display_name": "Python 3 (ipykernel)",
   "language": "python",
   "name": "python3"
  },
  "language_info": {
   "codemirror_mode": {
    "name": "ipython",
    "version": 3
   },
   "file_extension": ".py",
   "mimetype": "text/x-python",
   "name": "python",
   "nbconvert_exporter": "python",
   "pygments_lexer": "ipython3",
   "version": "3.10.0rc2"
  }
 },
 "nbformat": 4,
 "nbformat_minor": 5
}
